{
  "nbformat": 4,
  "nbformat_minor": 0,
  "metadata": {
    "colab": {
      "provenance": []
    },
    "kernelspec": {
      "name": "python3",
      "display_name": "Python 3"
    },
    "language_info": {
      "name": "python"
    }
  },
  "cells": [
    {
      "cell_type": "markdown",
      "source": [
        "# PRESENTATION\n",
        "BY\n",
        "# EGBE TIMMY"
      ],
      "metadata": {
        "id": "z2uJa5PD9UBN"
      }
    },
    {
      "cell_type": "markdown",
      "source": [
        "# **Prediction Using Unsupervised Learning**"
      ],
      "metadata": {
        "id": "bPJu6vJoDtu-"
      }
    },
    {
      "cell_type": "markdown",
      "source": [
        "The task for this project is to:\n",
        "\n",
        "\n",
        "*   Predict the optimum number of clusters, and\n",
        "*   represent it visually\n",
        "\n"
      ],
      "metadata": {
        "id": "wrciuJi5ERqg"
      }
    },
    {
      "cell_type": "code",
      "execution_count": null,
      "metadata": {
        "id": "azfhu3fWGDyB"
      },
      "outputs": [],
      "source": [
        "#importing the neccessary libraries\n",
        "from sklearn.datasets import load_iris\n",
        "%matplotlib inline\n",
        "import matplotlib.pyplot as plt\n",
        "import pandas as pd\n",
        "from sklearn.cluster import KMeans\n",
        "iris = load_iris()"
      ]
    },
    {
      "cell_type": "markdown",
      "source": [
        "Data exploration"
      ],
      "metadata": {
        "id": "M5M5gzklGwUJ"
      }
    },
    {
      "cell_type": "code",
      "source": [
        "dir(iris)"
      ],
      "metadata": {
        "colab": {
          "base_uri": "https://localhost:8080/"
        },
        "id": "IGBg8chxGhkY",
        "outputId": "d3aa9fbc-a575-4bb5-d5df-5148c71279ea"
      },
      "execution_count": null,
      "outputs": [
        {
          "output_type": "execute_result",
          "data": {
            "text/plain": [
              "['DESCR',\n",
              " 'data',\n",
              " 'data_module',\n",
              " 'feature_names',\n",
              " 'filename',\n",
              " 'frame',\n",
              " 'target',\n",
              " 'target_names']"
            ]
          },
          "metadata": {},
          "execution_count": 2
        }
      ]
    },
    {
      "cell_type": "code",
      "source": [
        "iris.feature_names"
      ],
      "metadata": {
        "colab": {
          "base_uri": "https://localhost:8080/"
        },
        "id": "g3-QK4-GPD7S",
        "outputId": "6311267a-fbcd-4b1a-d811-457ea61a8313"
      },
      "execution_count": null,
      "outputs": [
        {
          "output_type": "execute_result",
          "data": {
            "text/plain": [
              "['sepal length (cm)',\n",
              " 'sepal width (cm)',\n",
              " 'petal length (cm)',\n",
              " 'petal width (cm)']"
            ]
          },
          "metadata": {},
          "execution_count": 3
        }
      ]
    },
    {
      "cell_type": "code",
      "source": [
        "iris.target_names"
      ],
      "metadata": {
        "colab": {
          "base_uri": "https://localhost:8080/"
        },
        "id": "LSADfzdfPIPO",
        "outputId": "479901bb-4dc9-470f-b7c0-52ebcffc2264"
      },
      "execution_count": null,
      "outputs": [
        {
          "output_type": "execute_result",
          "data": {
            "text/plain": [
              "array(['setosa', 'versicolor', 'virginica'], dtype='<U10')"
            ]
          },
          "metadata": {},
          "execution_count": 4
        }
      ]
    },
    {
      "cell_type": "code",
      "source": [
        "df = pd.DataFrame(iris.data, columns = iris.feature_names)\n",
        "df.head()"
      ],
      "metadata": {
        "colab": {
          "base_uri": "https://localhost:8080/",
          "height": 206
        },
        "id": "VynrHGPmPe0k",
        "outputId": "2036f7c3-d18f-49f1-a357-61cf191c8b0b"
      },
      "execution_count": null,
      "outputs": [
        {
          "output_type": "execute_result",
          "data": {
            "text/plain": [
              "   sepal length (cm)  sepal width (cm)  petal length (cm)  petal width (cm)\n",
              "0                5.1               3.5                1.4               0.2\n",
              "1                4.9               3.0                1.4               0.2\n",
              "2                4.7               3.2                1.3               0.2\n",
              "3                4.6               3.1                1.5               0.2\n",
              "4                5.0               3.6                1.4               0.2"
            ],
            "text/html": [
              "\n",
              "  <div id=\"df-f847f6c0-c6a0-41cd-9c74-75a1165fb523\">\n",
              "    <div class=\"colab-df-container\">\n",
              "      <div>\n",
              "<style scoped>\n",
              "    .dataframe tbody tr th:only-of-type {\n",
              "        vertical-align: middle;\n",
              "    }\n",
              "\n",
              "    .dataframe tbody tr th {\n",
              "        vertical-align: top;\n",
              "    }\n",
              "\n",
              "    .dataframe thead th {\n",
              "        text-align: right;\n",
              "    }\n",
              "</style>\n",
              "<table border=\"1\" class=\"dataframe\">\n",
              "  <thead>\n",
              "    <tr style=\"text-align: right;\">\n",
              "      <th></th>\n",
              "      <th>sepal length (cm)</th>\n",
              "      <th>sepal width (cm)</th>\n",
              "      <th>petal length (cm)</th>\n",
              "      <th>petal width (cm)</th>\n",
              "    </tr>\n",
              "  </thead>\n",
              "  <tbody>\n",
              "    <tr>\n",
              "      <th>0</th>\n",
              "      <td>5.1</td>\n",
              "      <td>3.5</td>\n",
              "      <td>1.4</td>\n",
              "      <td>0.2</td>\n",
              "    </tr>\n",
              "    <tr>\n",
              "      <th>1</th>\n",
              "      <td>4.9</td>\n",
              "      <td>3.0</td>\n",
              "      <td>1.4</td>\n",
              "      <td>0.2</td>\n",
              "    </tr>\n",
              "    <tr>\n",
              "      <th>2</th>\n",
              "      <td>4.7</td>\n",
              "      <td>3.2</td>\n",
              "      <td>1.3</td>\n",
              "      <td>0.2</td>\n",
              "    </tr>\n",
              "    <tr>\n",
              "      <th>3</th>\n",
              "      <td>4.6</td>\n",
              "      <td>3.1</td>\n",
              "      <td>1.5</td>\n",
              "      <td>0.2</td>\n",
              "    </tr>\n",
              "    <tr>\n",
              "      <th>4</th>\n",
              "      <td>5.0</td>\n",
              "      <td>3.6</td>\n",
              "      <td>1.4</td>\n",
              "      <td>0.2</td>\n",
              "    </tr>\n",
              "  </tbody>\n",
              "</table>\n",
              "</div>\n",
              "      <button class=\"colab-df-convert\" onclick=\"convertToInteractive('df-f847f6c0-c6a0-41cd-9c74-75a1165fb523')\"\n",
              "              title=\"Convert this dataframe to an interactive table.\"\n",
              "              style=\"display:none;\">\n",
              "        \n",
              "  <svg xmlns=\"http://www.w3.org/2000/svg\" height=\"24px\"viewBox=\"0 0 24 24\"\n",
              "       width=\"24px\">\n",
              "    <path d=\"M0 0h24v24H0V0z\" fill=\"none\"/>\n",
              "    <path d=\"M18.56 5.44l.94 2.06.94-2.06 2.06-.94-2.06-.94-.94-2.06-.94 2.06-2.06.94zm-11 1L8.5 8.5l.94-2.06 2.06-.94-2.06-.94L8.5 2.5l-.94 2.06-2.06.94zm10 10l.94 2.06.94-2.06 2.06-.94-2.06-.94-.94-2.06-.94 2.06-2.06.94z\"/><path d=\"M17.41 7.96l-1.37-1.37c-.4-.4-.92-.59-1.43-.59-.52 0-1.04.2-1.43.59L10.3 9.45l-7.72 7.72c-.78.78-.78 2.05 0 2.83L4 21.41c.39.39.9.59 1.41.59.51 0 1.02-.2 1.41-.59l7.78-7.78 2.81-2.81c.8-.78.8-2.07 0-2.86zM5.41 20L4 18.59l7.72-7.72 1.47 1.35L5.41 20z\"/>\n",
              "  </svg>\n",
              "      </button>\n",
              "      \n",
              "  <style>\n",
              "    .colab-df-container {\n",
              "      display:flex;\n",
              "      flex-wrap:wrap;\n",
              "      gap: 12px;\n",
              "    }\n",
              "\n",
              "    .colab-df-convert {\n",
              "      background-color: #E8F0FE;\n",
              "      border: none;\n",
              "      border-radius: 50%;\n",
              "      cursor: pointer;\n",
              "      display: none;\n",
              "      fill: #1967D2;\n",
              "      height: 32px;\n",
              "      padding: 0 0 0 0;\n",
              "      width: 32px;\n",
              "    }\n",
              "\n",
              "    .colab-df-convert:hover {\n",
              "      background-color: #E2EBFA;\n",
              "      box-shadow: 0px 1px 2px rgba(60, 64, 67, 0.3), 0px 1px 3px 1px rgba(60, 64, 67, 0.15);\n",
              "      fill: #174EA6;\n",
              "    }\n",
              "\n",
              "    [theme=dark] .colab-df-convert {\n",
              "      background-color: #3B4455;\n",
              "      fill: #D2E3FC;\n",
              "    }\n",
              "\n",
              "    [theme=dark] .colab-df-convert:hover {\n",
              "      background-color: #434B5C;\n",
              "      box-shadow: 0px 1px 3px 1px rgba(0, 0, 0, 0.15);\n",
              "      filter: drop-shadow(0px 1px 2px rgba(0, 0, 0, 0.3));\n",
              "      fill: #FFFFFF;\n",
              "    }\n",
              "  </style>\n",
              "\n",
              "      <script>\n",
              "        const buttonEl =\n",
              "          document.querySelector('#df-f847f6c0-c6a0-41cd-9c74-75a1165fb523 button.colab-df-convert');\n",
              "        buttonEl.style.display =\n",
              "          google.colab.kernel.accessAllowed ? 'block' : 'none';\n",
              "\n",
              "        async function convertToInteractive(key) {\n",
              "          const element = document.querySelector('#df-f847f6c0-c6a0-41cd-9c74-75a1165fb523');\n",
              "          const dataTable =\n",
              "            await google.colab.kernel.invokeFunction('convertToInteractive',\n",
              "                                                     [key], {});\n",
              "          if (!dataTable) return;\n",
              "\n",
              "          const docLinkHtml = 'Like what you see? Visit the ' +\n",
              "            '<a target=\"_blank\" href=https://colab.research.google.com/notebooks/data_table.ipynb>data table notebook</a>'\n",
              "            + ' to learn more about interactive tables.';\n",
              "          element.innerHTML = '';\n",
              "          dataTable['output_type'] = 'display_data';\n",
              "          await google.colab.output.renderOutput(dataTable, element);\n",
              "          const docLink = document.createElement('div');\n",
              "          docLink.innerHTML = docLinkHtml;\n",
              "          element.appendChild(docLink);\n",
              "        }\n",
              "      </script>\n",
              "    </div>\n",
              "  </div>\n",
              "  "
            ]
          },
          "metadata": {},
          "execution_count": 5
        }
      ]
    },
    {
      "cell_type": "code",
      "source": [
        "df['flower'] = iris.target\n",
        "df"
      ],
      "metadata": {
        "id": "dSyWpgJLPll9",
        "colab": {
          "base_uri": "https://localhost:8080/",
          "height": 424
        },
        "outputId": "dd3d043c-170e-4fa7-a4fa-ef9191fb1951"
      },
      "execution_count": null,
      "outputs": [
        {
          "output_type": "execute_result",
          "data": {
            "text/plain": [
              "     sepal length (cm)  sepal width (cm)  petal length (cm)  petal width (cm)  \\\n",
              "0                  5.1               3.5                1.4               0.2   \n",
              "1                  4.9               3.0                1.4               0.2   \n",
              "2                  4.7               3.2                1.3               0.2   \n",
              "3                  4.6               3.1                1.5               0.2   \n",
              "4                  5.0               3.6                1.4               0.2   \n",
              "..                 ...               ...                ...               ...   \n",
              "145                6.7               3.0                5.2               2.3   \n",
              "146                6.3               2.5                5.0               1.9   \n",
              "147                6.5               3.0                5.2               2.0   \n",
              "148                6.2               3.4                5.4               2.3   \n",
              "149                5.9               3.0                5.1               1.8   \n",
              "\n",
              "     flower  \n",
              "0         0  \n",
              "1         0  \n",
              "2         0  \n",
              "3         0  \n",
              "4         0  \n",
              "..      ...  \n",
              "145       2  \n",
              "146       2  \n",
              "147       2  \n",
              "148       2  \n",
              "149       2  \n",
              "\n",
              "[150 rows x 5 columns]"
            ],
            "text/html": [
              "\n",
              "  <div id=\"df-67e40e38-2e9d-450f-bd5b-5c44aa61ebea\">\n",
              "    <div class=\"colab-df-container\">\n",
              "      <div>\n",
              "<style scoped>\n",
              "    .dataframe tbody tr th:only-of-type {\n",
              "        vertical-align: middle;\n",
              "    }\n",
              "\n",
              "    .dataframe tbody tr th {\n",
              "        vertical-align: top;\n",
              "    }\n",
              "\n",
              "    .dataframe thead th {\n",
              "        text-align: right;\n",
              "    }\n",
              "</style>\n",
              "<table border=\"1\" class=\"dataframe\">\n",
              "  <thead>\n",
              "    <tr style=\"text-align: right;\">\n",
              "      <th></th>\n",
              "      <th>sepal length (cm)</th>\n",
              "      <th>sepal width (cm)</th>\n",
              "      <th>petal length (cm)</th>\n",
              "      <th>petal width (cm)</th>\n",
              "      <th>flower</th>\n",
              "    </tr>\n",
              "  </thead>\n",
              "  <tbody>\n",
              "    <tr>\n",
              "      <th>0</th>\n",
              "      <td>5.1</td>\n",
              "      <td>3.5</td>\n",
              "      <td>1.4</td>\n",
              "      <td>0.2</td>\n",
              "      <td>0</td>\n",
              "    </tr>\n",
              "    <tr>\n",
              "      <th>1</th>\n",
              "      <td>4.9</td>\n",
              "      <td>3.0</td>\n",
              "      <td>1.4</td>\n",
              "      <td>0.2</td>\n",
              "      <td>0</td>\n",
              "    </tr>\n",
              "    <tr>\n",
              "      <th>2</th>\n",
              "      <td>4.7</td>\n",
              "      <td>3.2</td>\n",
              "      <td>1.3</td>\n",
              "      <td>0.2</td>\n",
              "      <td>0</td>\n",
              "    </tr>\n",
              "    <tr>\n",
              "      <th>3</th>\n",
              "      <td>4.6</td>\n",
              "      <td>3.1</td>\n",
              "      <td>1.5</td>\n",
              "      <td>0.2</td>\n",
              "      <td>0</td>\n",
              "    </tr>\n",
              "    <tr>\n",
              "      <th>4</th>\n",
              "      <td>5.0</td>\n",
              "      <td>3.6</td>\n",
              "      <td>1.4</td>\n",
              "      <td>0.2</td>\n",
              "      <td>0</td>\n",
              "    </tr>\n",
              "    <tr>\n",
              "      <th>...</th>\n",
              "      <td>...</td>\n",
              "      <td>...</td>\n",
              "      <td>...</td>\n",
              "      <td>...</td>\n",
              "      <td>...</td>\n",
              "    </tr>\n",
              "    <tr>\n",
              "      <th>145</th>\n",
              "      <td>6.7</td>\n",
              "      <td>3.0</td>\n",
              "      <td>5.2</td>\n",
              "      <td>2.3</td>\n",
              "      <td>2</td>\n",
              "    </tr>\n",
              "    <tr>\n",
              "      <th>146</th>\n",
              "      <td>6.3</td>\n",
              "      <td>2.5</td>\n",
              "      <td>5.0</td>\n",
              "      <td>1.9</td>\n",
              "      <td>2</td>\n",
              "    </tr>\n",
              "    <tr>\n",
              "      <th>147</th>\n",
              "      <td>6.5</td>\n",
              "      <td>3.0</td>\n",
              "      <td>5.2</td>\n",
              "      <td>2.0</td>\n",
              "      <td>2</td>\n",
              "    </tr>\n",
              "    <tr>\n",
              "      <th>148</th>\n",
              "      <td>6.2</td>\n",
              "      <td>3.4</td>\n",
              "      <td>5.4</td>\n",
              "      <td>2.3</td>\n",
              "      <td>2</td>\n",
              "    </tr>\n",
              "    <tr>\n",
              "      <th>149</th>\n",
              "      <td>5.9</td>\n",
              "      <td>3.0</td>\n",
              "      <td>5.1</td>\n",
              "      <td>1.8</td>\n",
              "      <td>2</td>\n",
              "    </tr>\n",
              "  </tbody>\n",
              "</table>\n",
              "<p>150 rows × 5 columns</p>\n",
              "</div>\n",
              "      <button class=\"colab-df-convert\" onclick=\"convertToInteractive('df-67e40e38-2e9d-450f-bd5b-5c44aa61ebea')\"\n",
              "              title=\"Convert this dataframe to an interactive table.\"\n",
              "              style=\"display:none;\">\n",
              "        \n",
              "  <svg xmlns=\"http://www.w3.org/2000/svg\" height=\"24px\"viewBox=\"0 0 24 24\"\n",
              "       width=\"24px\">\n",
              "    <path d=\"M0 0h24v24H0V0z\" fill=\"none\"/>\n",
              "    <path d=\"M18.56 5.44l.94 2.06.94-2.06 2.06-.94-2.06-.94-.94-2.06-.94 2.06-2.06.94zm-11 1L8.5 8.5l.94-2.06 2.06-.94-2.06-.94L8.5 2.5l-.94 2.06-2.06.94zm10 10l.94 2.06.94-2.06 2.06-.94-2.06-.94-.94-2.06-.94 2.06-2.06.94z\"/><path d=\"M17.41 7.96l-1.37-1.37c-.4-.4-.92-.59-1.43-.59-.52 0-1.04.2-1.43.59L10.3 9.45l-7.72 7.72c-.78.78-.78 2.05 0 2.83L4 21.41c.39.39.9.59 1.41.59.51 0 1.02-.2 1.41-.59l7.78-7.78 2.81-2.81c.8-.78.8-2.07 0-2.86zM5.41 20L4 18.59l7.72-7.72 1.47 1.35L5.41 20z\"/>\n",
              "  </svg>\n",
              "      </button>\n",
              "      \n",
              "  <style>\n",
              "    .colab-df-container {\n",
              "      display:flex;\n",
              "      flex-wrap:wrap;\n",
              "      gap: 12px;\n",
              "    }\n",
              "\n",
              "    .colab-df-convert {\n",
              "      background-color: #E8F0FE;\n",
              "      border: none;\n",
              "      border-radius: 50%;\n",
              "      cursor: pointer;\n",
              "      display: none;\n",
              "      fill: #1967D2;\n",
              "      height: 32px;\n",
              "      padding: 0 0 0 0;\n",
              "      width: 32px;\n",
              "    }\n",
              "\n",
              "    .colab-df-convert:hover {\n",
              "      background-color: #E2EBFA;\n",
              "      box-shadow: 0px 1px 2px rgba(60, 64, 67, 0.3), 0px 1px 3px 1px rgba(60, 64, 67, 0.15);\n",
              "      fill: #174EA6;\n",
              "    }\n",
              "\n",
              "    [theme=dark] .colab-df-convert {\n",
              "      background-color: #3B4455;\n",
              "      fill: #D2E3FC;\n",
              "    }\n",
              "\n",
              "    [theme=dark] .colab-df-convert:hover {\n",
              "      background-color: #434B5C;\n",
              "      box-shadow: 0px 1px 3px 1px rgba(0, 0, 0, 0.15);\n",
              "      filter: drop-shadow(0px 1px 2px rgba(0, 0, 0, 0.3));\n",
              "      fill: #FFFFFF;\n",
              "    }\n",
              "  </style>\n",
              "\n",
              "      <script>\n",
              "        const buttonEl =\n",
              "          document.querySelector('#df-67e40e38-2e9d-450f-bd5b-5c44aa61ebea button.colab-df-convert');\n",
              "        buttonEl.style.display =\n",
              "          google.colab.kernel.accessAllowed ? 'block' : 'none';\n",
              "\n",
              "        async function convertToInteractive(key) {\n",
              "          const element = document.querySelector('#df-67e40e38-2e9d-450f-bd5b-5c44aa61ebea');\n",
              "          const dataTable =\n",
              "            await google.colab.kernel.invokeFunction('convertToInteractive',\n",
              "                                                     [key], {});\n",
              "          if (!dataTable) return;\n",
              "\n",
              "          const docLinkHtml = 'Like what you see? Visit the ' +\n",
              "            '<a target=\"_blank\" href=https://colab.research.google.com/notebooks/data_table.ipynb>data table notebook</a>'\n",
              "            + ' to learn more about interactive tables.';\n",
              "          element.innerHTML = '';\n",
              "          dataTable['output_type'] = 'display_data';\n",
              "          await google.colab.output.renderOutput(dataTable, element);\n",
              "          const docLink = document.createElement('div');\n",
              "          docLink.innerHTML = docLinkHtml;\n",
              "          element.appendChild(docLink);\n",
              "        }\n",
              "      </script>\n",
              "    </div>\n",
              "  </div>\n",
              "  "
            ]
          },
          "metadata": {},
          "execution_count": 92
        }
      ]
    },
    {
      "cell_type": "code",
      "source": [
        "x = df.iloc[:, :-1].values"
      ],
      "metadata": {
        "id": "ftW1lLiXViJU"
      },
      "execution_count": null,
      "outputs": []
    },
    {
      "cell_type": "code",
      "source": [
        "print(x)"
      ],
      "metadata": {
        "colab": {
          "base_uri": "https://localhost:8080/"
        },
        "id": "PQNILkcmVkcs",
        "outputId": "9bf3ece7-758d-4433-b514-1e0018e95cf9"
      },
      "execution_count": null,
      "outputs": [
        {
          "output_type": "stream",
          "name": "stdout",
          "text": [
            "[[5.1 3.5 1.4]\n",
            " [4.9 3.  1.4]\n",
            " [4.7 3.2 1.3]\n",
            " [4.6 3.1 1.5]\n",
            " [5.  3.6 1.4]\n",
            " [5.4 3.9 1.7]\n",
            " [4.6 3.4 1.4]\n",
            " [5.  3.4 1.5]\n",
            " [4.4 2.9 1.4]\n",
            " [4.9 3.1 1.5]\n",
            " [5.4 3.7 1.5]\n",
            " [4.8 3.4 1.6]\n",
            " [4.8 3.  1.4]\n",
            " [4.3 3.  1.1]\n",
            " [5.8 4.  1.2]\n",
            " [5.7 4.4 1.5]\n",
            " [5.4 3.9 1.3]\n",
            " [5.1 3.5 1.4]\n",
            " [5.7 3.8 1.7]\n",
            " [5.1 3.8 1.5]\n",
            " [5.4 3.4 1.7]\n",
            " [5.1 3.7 1.5]\n",
            " [4.6 3.6 1. ]\n",
            " [5.1 3.3 1.7]\n",
            " [4.8 3.4 1.9]\n",
            " [5.  3.  1.6]\n",
            " [5.  3.4 1.6]\n",
            " [5.2 3.5 1.5]\n",
            " [5.2 3.4 1.4]\n",
            " [4.7 3.2 1.6]\n",
            " [4.8 3.1 1.6]\n",
            " [5.4 3.4 1.5]\n",
            " [5.2 4.1 1.5]\n",
            " [5.5 4.2 1.4]\n",
            " [4.9 3.1 1.5]\n",
            " [5.  3.2 1.2]\n",
            " [5.5 3.5 1.3]\n",
            " [4.9 3.6 1.4]\n",
            " [4.4 3.  1.3]\n",
            " [5.1 3.4 1.5]\n",
            " [5.  3.5 1.3]\n",
            " [4.5 2.3 1.3]\n",
            " [4.4 3.2 1.3]\n",
            " [5.  3.5 1.6]\n",
            " [5.1 3.8 1.9]\n",
            " [4.8 3.  1.4]\n",
            " [5.1 3.8 1.6]\n",
            " [4.6 3.2 1.4]\n",
            " [5.3 3.7 1.5]\n",
            " [5.  3.3 1.4]\n",
            " [7.  3.2 4.7]\n",
            " [6.4 3.2 4.5]\n",
            " [6.9 3.1 4.9]\n",
            " [5.5 2.3 4. ]\n",
            " [6.5 2.8 4.6]\n",
            " [5.7 2.8 4.5]\n",
            " [6.3 3.3 4.7]\n",
            " [4.9 2.4 3.3]\n",
            " [6.6 2.9 4.6]\n",
            " [5.2 2.7 3.9]\n",
            " [5.  2.  3.5]\n",
            " [5.9 3.  4.2]\n",
            " [6.  2.2 4. ]\n",
            " [6.1 2.9 4.7]\n",
            " [5.6 2.9 3.6]\n",
            " [6.7 3.1 4.4]\n",
            " [5.6 3.  4.5]\n",
            " [5.8 2.7 4.1]\n",
            " [6.2 2.2 4.5]\n",
            " [5.6 2.5 3.9]\n",
            " [5.9 3.2 4.8]\n",
            " [6.1 2.8 4. ]\n",
            " [6.3 2.5 4.9]\n",
            " [6.1 2.8 4.7]\n",
            " [6.4 2.9 4.3]\n",
            " [6.6 3.  4.4]\n",
            " [6.8 2.8 4.8]\n",
            " [6.7 3.  5. ]\n",
            " [6.  2.9 4.5]\n",
            " [5.7 2.6 3.5]\n",
            " [5.5 2.4 3.8]\n",
            " [5.5 2.4 3.7]\n",
            " [5.8 2.7 3.9]\n",
            " [6.  2.7 5.1]\n",
            " [5.4 3.  4.5]\n",
            " [6.  3.4 4.5]\n",
            " [6.7 3.1 4.7]\n",
            " [6.3 2.3 4.4]\n",
            " [5.6 3.  4.1]\n",
            " [5.5 2.5 4. ]\n",
            " [5.5 2.6 4.4]\n",
            " [6.1 3.  4.6]\n",
            " [5.8 2.6 4. ]\n",
            " [5.  2.3 3.3]\n",
            " [5.6 2.7 4.2]\n",
            " [5.7 3.  4.2]\n",
            " [5.7 2.9 4.2]\n",
            " [6.2 2.9 4.3]\n",
            " [5.1 2.5 3. ]\n",
            " [5.7 2.8 4.1]\n",
            " [6.3 3.3 6. ]\n",
            " [5.8 2.7 5.1]\n",
            " [7.1 3.  5.9]\n",
            " [6.3 2.9 5.6]\n",
            " [6.5 3.  5.8]\n",
            " [7.6 3.  6.6]\n",
            " [4.9 2.5 4.5]\n",
            " [7.3 2.9 6.3]\n",
            " [6.7 2.5 5.8]\n",
            " [7.2 3.6 6.1]\n",
            " [6.5 3.2 5.1]\n",
            " [6.4 2.7 5.3]\n",
            " [6.8 3.  5.5]\n",
            " [5.7 2.5 5. ]\n",
            " [5.8 2.8 5.1]\n",
            " [6.4 3.2 5.3]\n",
            " [6.5 3.  5.5]\n",
            " [7.7 3.8 6.7]\n",
            " [7.7 2.6 6.9]\n",
            " [6.  2.2 5. ]\n",
            " [6.9 3.2 5.7]\n",
            " [5.6 2.8 4.9]\n",
            " [7.7 2.8 6.7]\n",
            " [6.3 2.7 4.9]\n",
            " [6.7 3.3 5.7]\n",
            " [7.2 3.2 6. ]\n",
            " [6.2 2.8 4.8]\n",
            " [6.1 3.  4.9]\n",
            " [6.4 2.8 5.6]\n",
            " [7.2 3.  5.8]\n",
            " [7.4 2.8 6.1]\n",
            " [7.9 3.8 6.4]\n",
            " [6.4 2.8 5.6]\n",
            " [6.3 2.8 5.1]\n",
            " [6.1 2.6 5.6]\n",
            " [7.7 3.  6.1]\n",
            " [6.3 3.4 5.6]\n",
            " [6.4 3.1 5.5]\n",
            " [6.  3.  4.8]\n",
            " [6.9 3.1 5.4]\n",
            " [6.7 3.1 5.6]\n",
            " [6.9 3.1 5.1]\n",
            " [5.8 2.7 5.1]\n",
            " [6.8 3.2 5.9]\n",
            " [6.7 3.3 5.7]\n",
            " [6.7 3.  5.2]\n",
            " [6.3 2.5 5. ]\n",
            " [6.5 3.  5.2]\n",
            " [6.2 3.4 5.4]\n",
            " [5.9 3.  5.1]]\n"
          ]
        }
      ]
    },
    {
      "cell_type": "code",
      "source": [
        "ss = []\n",
        "\n",
        "for i in range(1, 11):\n",
        "    kmeans = KMeans(n_clusters = i, init = 'k-means++', max_iter = 300, \n",
        "                    n_init = 10, random_state = 0)\n",
        "    kmeans.fit(x)\n",
        "    ss.append(kmeans.inertia_)"
      ],
      "metadata": {
        "id": "i3VFp7NPLzsf"
      },
      "execution_count": null,
      "outputs": []
    },
    {
      "cell_type": "code",
      "source": [
        "# Plotting the results onto a line graph, \n",
        "# `allowing us to observe 'The elbow'\n",
        "plt.plot(range(1, 11), ss)\n",
        "plt.title('The elbow method')\n",
        "plt.xlabel('Number of clusters')\n",
        "plt.ylabel('sum of squares') \n",
        "plt.show()"
      ],
      "metadata": {
        "colab": {
          "base_uri": "https://localhost:8080/",
          "height": 295
        },
        "id": "knSx3KPTS5-j",
        "outputId": "2cc9d948-1ff4-4e9d-a840-6b6c7c7305ca"
      },
      "execution_count": null,
      "outputs": [
        {
          "output_type": "display_data",
          "data": {
            "text/plain": [
              "<Figure size 432x288 with 1 Axes>"
            ],
            "image/png": "[encoded data removed]"
          },
          "metadata": {
            "needs_background": "light"
          }
        }
      ]
    },
    {
      "cell_type": "code",
      "source": [
        "kmeans = KMeans(n_clusters = 3, init = 'k-means++', max_iter = 300, n_init = 10, \n",
        "                random_state = 0)\n",
        "y_predict = kmeans.fit_predict(x)"
      ],
      "metadata": {
        "id": "dLKsVHHGKdM8"
      },
      "execution_count": null,
      "outputs": []
    },
    {
      "cell_type": "code",
      "source": [
        "plt.scatter(x[y_predict == 0, 0], x[y_predict == 0, 1], s = 100, c = 'red', \n",
        "            label = 'setosa')\n",
        "plt.scatter(x[y_predict == 1, 0], x[y_predict == 1, 1], s = 100, c = 'blue', \n",
        "            label = 'versicolour')\n",
        "plt.scatter(x[y_predict == 2, 0], x[y_predict == 2, 1],s = 100, c = 'green', \n",
        "            label = 'virginica')\n",
        "\n",
        "# Plotting the centroids of the clusters\n",
        "plt.scatter(kmeans.cluster_centers_[:, 0], kmeans.cluster_centers_[:,1], \n",
        "            s = 100, c = 'yellow', label = 'Centroids')\n",
        "\n",
        "plt.legend()"
      ],
      "metadata": {
        "colab": {
          "base_uri": "https://localhost:8080/",
          "height": 285
        },
        "id": "P1BptNPAYZdS",
        "outputId": "77c26d42-ee0f-4422-a928-b1d851e9c936"
      },
      "execution_count": null,
      "outputs": [
        {
          "output_type": "execute_result",
          "data": {
            "text/plain": [
              "<matplotlib.legend.Legend at 0x7fe3ce9ca970>"
            ]
          },
          "metadata": {},
          "execution_count": 11
        },
        {
          "output_type": "display_data",
          "data": {
            "text/plain": [
              "<Figure size 432x288 with 1 Axes>"
            ],
            "image/png": "[encoded data removed]"
          },
          "metadata": {
            "needs_background": "light"
          }
        }
      ]
    },
    {
      "cell_type": "code",
      "source": [
        "plt.scatter(x[y_predict == 0, 2], x[y_predict == 0, 3], s = 100, c = 'red', \n",
        "            label = 'setosa')\n",
        "plt.scatter(x[y_predict == 1, 2], x[y_predict == 1, 3], s = 100, c = 'blue', \n",
        "            label = 'versicolour')\n",
        "plt.scatter(x[y_predict == 2, 2], x[y_predict == 2, 3],s = 100, c = 'green', \n",
        "            label = 'virginica')\n",
        "\n",
        "# Plotting the centroids of the clusters\n",
        "plt.scatter(kmeans.cluster_centers_[:, 2], kmeans.cluster_centers_[:,3], \n",
        "            s = 100, c = 'yellow', label = 'Centroids')\n",
        "\n",
        "plt.legend()"
      ],
      "metadata": {
        "colab": {
          "base_uri": "https://localhost:8080/",
          "height": 282
        },
        "id": "8DOICZRgKtc8",
        "outputId": "ab318c76-2126-4d65-e430-487128e47f84"
      },
      "execution_count": null,
      "outputs": [
        {
          "output_type": "execute_result",
          "data": {
            "text/plain": [
              "<matplotlib.legend.Legend at 0x7fb31c318880>"
            ]
          },
          "metadata": {},
          "execution_count": 100
        },
        {
          "output_type": "display_data",
          "data": {
            "text/plain": [
              "<Figure size 432x288 with 1 Axes>"
            ],
            "image/png": "[encoded data removed]"
          },
          "metadata": {
            "needs_background": "light"
          }
        }
      ]
    }
  ]
}